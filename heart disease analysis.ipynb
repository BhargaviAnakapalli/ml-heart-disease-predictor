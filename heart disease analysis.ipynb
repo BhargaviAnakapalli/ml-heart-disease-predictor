{
 "cells": [
  {
   "cell_type": "markdown",
   "id": "ccbac35c-4b27-4e6f-955e-5cbdfeb7f004",
   "metadata": {},
   "source": [
    "# Heart Disease analysis"
   ]
  },
  {
   "cell_type": "markdown",
   "id": "213828ee-34ac-424b-8d1b-87cbd066ab57",
   "metadata": {},
   "source": [
    "### Importing the Dependencies"
   ]
  },
  {
   "cell_type": "code",
   "execution_count": null,
   "id": "ccada456-9c2a-495f-89f9-2efac2454dc5",
   "metadata": {},
   "outputs": [
    {
     "ename": "",
     "evalue": "",
     "output_type": "error",
     "traceback": [
      "\u001b[1;31mRunning cells with 'venv (Python 3.11.2)' requires the ipykernel package.\n",
      "\u001b[1;31mInstall 'ipykernel' into the Python environment. \n",
      "\u001b[1;31mCommand: '\"f:/ml project/venv/Scripts/python.exe\" -m pip install ipykernel -U --force-reinstall'"
     ]
    }
   ],
   "source": [
    "import numpy as np\n",
    "import pandas as pd\n",
    "import matplotlib.pyplot as plt\n",
    "import seaborn as sns\n",
    "from sklearn.model_selection import train_test_split\n",
    "from sklearn.linear_model import LogisticRegression\n",
    "from sklearn.metrics import accuracy_score"
   ]
  },
  {
   "cell_type": "markdown",
   "id": "9b8b4347-d6c7-4150-979a-0ef8a19ceb37",
   "metadata": {},
   "source": [
    "### Data collection"
   ]
  },
  {
   "cell_type": "code",
   "execution_count": null,
   "id": "325e7b28-1626-4894-8748-9849f5df0b1a",
   "metadata": {},
   "outputs": [],
   "source": [
    "#loading the csv data to a pandas DataFrame\n",
    "heart_data = pd.read_csv('heart.csv')"
   ]
  },
  {
   "cell_type": "markdown",
   "id": "73cd3e91-7141-4ec1-af8d-2d7686b61e3a",
   "metadata": {},
   "source": [
    "## data Analysis"
   ]
  },
  {
   "cell_type": "code",
   "execution_count": null,
   "id": "1aa46e05-0ed9-42aa-a89d-76ab11305af9",
   "metadata": {},
   "outputs": [],
   "source": [
    "#print first five rows of the dataset\n",
    "heart_data.head()"
   ]
  },
  {
   "cell_type": "code",
   "execution_count": null,
   "id": "d62b230a-3544-420a-8d97-f0310e3b1cfa",
   "metadata": {},
   "outputs": [],
   "source": [
    "#last 5 rows of the dataset\n",
    "heart_data.tail()"
   ]
  },
  {
   "cell_type": "code",
   "execution_count": null,
   "id": "fc9f6297-0a0d-443d-8f00-9616fcafc45d",
   "metadata": {},
   "outputs": [],
   "source": [
    "#no. of row and columns in the data set\n",
    "heart_data.shape"
   ]
  },
  {
   "cell_type": "code",
   "execution_count": null,
   "id": "2334e6ed-d32c-4c46-bd75-f7bb59ec98bf",
   "metadata": {},
   "outputs": [],
   "source": [
    "#getting some information about the dataset\n",
    "heart_data.info()"
   ]
  },
  {
   "cell_type": "code",
   "execution_count": null,
   "id": "afb49c1c-2c5f-40ad-8554-2767f9f75652",
   "metadata": {},
   "outputs": [],
   "source": [
    "#checking for missing values\n",
    "heart_data.isnull().sum()"
   ]
  },
  {
   "cell_type": "code",
   "execution_count": null,
   "id": "44c67698-95aa-48bb-90a2-a499a32a45b3",
   "metadata": {},
   "outputs": [],
   "source": [
    "#finding the duplicate values\n",
    "heart_data.duplicated().any()"
   ]
  },
  {
   "cell_type": "code",
   "execution_count": null,
   "id": "d3cb8aa3-b689-4678-901e-565884a46b65",
   "metadata": {},
   "outputs": [],
   "source": [
    "# drop duplicate values\n",
    "heart_data=heart_data.drop_duplicates()\n",
    "heart_data"
   ]
  },
  {
   "cell_type": "code",
   "execution_count": null,
   "id": "85cf5d8f-0cab-45ba-8656-57a98ac9277e",
   "metadata": {},
   "outputs": [],
   "source": [
    "# getting some statistical measure of the data\n",
    "heart_data.describe()"
   ]
  },
  {
   "cell_type": "markdown",
   "id": "2398648a-04c5-4b76-9872-37a98d42c8c7",
   "metadata": {},
   "source": [
    "### Exploring Relations: Heatmaps with python for data visualization"
   ]
  },
  {
   "cell_type": "code",
   "execution_count": null,
   "id": "48af0b8a-c7a5-43f9-b238-7f48091d86a8",
   "metadata": {},
   "outputs": [],
   "source": [
    "sns.heatmap(heart_data.corr())"
   ]
  },
  {
   "cell_type": "code",
   "execution_count": null,
   "id": "a34bcc5a-722b-4ca7-a6d1-dbd18ec59dce",
   "metadata": {},
   "outputs": [],
   "source": [
    "sns.countplot(heart_data)"
   ]
  },
  {
   "cell_type": "code",
   "execution_count": null,
   "id": "5a99a0db-2cf7-45d5-8298-27cd9688ef49",
   "metadata": {},
   "outputs": [],
   "source": [
    "#cheaking the distibution of target variable\n",
    "heart_data['target'].value_counts()"
   ]
  },
  {
   "cell_type": "markdown",
   "id": "8733b075-6599-4648-9de5-374d33be4353",
   "metadata": {},
   "source": [
    "##### 1--> Defective heart\n",
    "##### 0--> Healthy heart"
   ]
  },
  {
   "cell_type": "markdown",
   "id": "6d7aa328-afeb-4102-b3cb-d20e63d8b2b8",
   "metadata": {},
   "source": [
    " ### Data preprocess"
   ]
  },
  {
   "cell_type": "code",
   "execution_count": null,
   "id": "0eff9dd5-ff60-48be-88f3-cde1272a5452",
   "metadata": {},
   "outputs": [],
   "source": [
    "cate_val=[]\n",
    "num_val=[]\n",
    "for column in heart_data.columns:\n",
    "    if heart_data[column].nunique()<=10:\n",
    "        cate_val.append(column)\n",
    "    else:\n",
    "        num_val.append(column)"
   ]
  },
  {
   "cell_type": "code",
   "execution_count": null,
   "id": "5beed559-624c-4f4f-9657-9f49ab176325",
   "metadata": {},
   "outputs": [],
   "source": [
    "cate_val"
   ]
  },
  {
   "cell_type": "code",
   "execution_count": null,
   "id": "e51b7bd3-8936-4de6-ba40-7247f1bb9a50",
   "metadata": {},
   "outputs": [],
   "source": [
    "num_val"
   ]
  },
  {
   "cell_type": "markdown",
   "id": "8a350b8f-a783-4a7e-be04-7e23e50684e1",
   "metadata": {},
   "source": [
    "### Encoding Categorical Data"
   ]
  },
  {
   "cell_type": "code",
   "execution_count": null,
   "id": "e6016c64-bfb2-4cc0-8269-9d2091234a55",
   "metadata": {},
   "outputs": [],
   "source": [
    "# check unique value\n",
    "heart_data['cp'].unique()"
   ]
  },
  {
   "cell_type": "code",
   "execution_count": null,
   "id": "7796af3e-666a-44cb-8235-48bc25548e89",
   "metadata": {},
   "outputs": [],
   "source": [
    "#cate_val.remove('sex')\n",
    "#cate_val.remove('target')\n",
    "#heart_data"
   ]
  },
  {
   "cell_type": "markdown",
   "id": "8daff171-5d5c-409c-b6bf-bf6dd81246a0",
   "metadata": {},
   "source": [
    "### Feature Scaling"
   ]
  },
  {
   "cell_type": "code",
   "execution_count": null,
   "id": "ec79f69c-e27d-4ffb-8e33-1413d19bf95b",
   "metadata": {},
   "outputs": [],
   "source": [
    "heart_data.head()"
   ]
  },
  {
   "cell_type": "code",
   "execution_count": null,
   "id": "49a28448-76f4-41a9-b0c6-6926a9bea4d0",
   "metadata": {},
   "outputs": [],
   "source": [
    "from sklearn.preprocessing import StandardScaler\n",
    "st = StandardScaler()\n",
    "heart_data[num_val] = st.fit_transform(heart_data[num_val])"
   ]
  },
  {
   "cell_type": "code",
   "execution_count": null,
   "id": "daa56ee1-515f-4fd6-ac7a-4a5145c32f4e",
   "metadata": {},
   "outputs": [],
   "source": [
    "heart_data.head()"
   ]
  },
  {
   "cell_type": "markdown",
   "id": "3c05f14e-5cce-4787-8ae1-acc5350cff1c",
   "metadata": {},
   "source": [
    "### Splitting the features and target"
   ]
  },
  {
   "cell_type": "code",
   "execution_count": null,
   "id": "3e3b341e-9caf-4b18-90d8-712a6f49aaaa",
   "metadata": {},
   "outputs": [],
   "source": [
    "X=heart_data.drop(columns='target',axis=1)\n",
    "Y=heart_data['target']"
   ]
  },
  {
   "cell_type": "code",
   "execution_count": null,
   "id": "b9336d6b-6537-47ba-9b44-d34be3fd9da7",
   "metadata": {},
   "outputs": [],
   "source": [
    "X"
   ]
  },
  {
   "cell_type": "code",
   "execution_count": null,
   "id": "0bb6449f-45bc-4d9b-ab36-9d8384840434",
   "metadata": {},
   "outputs": [],
   "source": [
    "Y"
   ]
  },
  {
   "cell_type": "markdown",
   "id": "a6a1db43-1217-4ada-b13c-2659966dd7bc",
   "metadata": {},
   "source": [
    "### Splitting the data into train data and test data"
   ]
  },
  {
   "cell_type": "code",
   "execution_count": null,
   "id": "f9c037c4-6404-4371-a662-19f98d952d06",
   "metadata": {},
   "outputs": [],
   "source": [
    "X_train,X_test,Y_train,Y_test=train_test_split(X,Y,test_size=0.2,stratify=Y,random_state=42)\n",
    "print(X.shape,X_train.shape,X_test.shape)"
   ]
  },
  {
   "cell_type": "markdown",
   "id": "508f43db-eaa2-4d62-93f4-b67ea35b28cc",
   "metadata": {},
   "source": [
    "## Model Training\n",
    "### Logistic Regression"
   ]
  },
  {
   "cell_type": "code",
   "execution_count": null,
   "id": "0452c87a-8a65-4af3-9f85-47e61199e2de",
   "metadata": {},
   "outputs": [],
   "source": [
    "from sklearn.linear_model import LogisticRegression\n",
    "#lr=LogisticRegression()#max_iter=1000\n",
    "#training the LogisticRegression model with Training data\n",
    "lr = LogisticRegression(max_iter=1000, solver='lbfgs', C=1.0, random_state=42)\n",
    "lr.fit(X_train, Y_train)"
   ]
  },
  {
   "cell_type": "code",
   "execution_count": null,
   "id": "0050b2b8-4515-4e24-97e9-178133d7482a",
   "metadata": {},
   "outputs": [],
   "source": [
    "Y_pred1=lr.predict(X_test)"
   ]
  },
  {
   "cell_type": "code",
   "execution_count": null,
   "id": "aa109687-52aa-44cb-84ec-332496148872",
   "metadata": {},
   "outputs": [],
   "source": [
    "from sklearn.metrics import accuracy_score\n",
    "accuracy_score(Y_test,Y_pred1)"
   ]
  },
  {
   "cell_type": "markdown",
   "id": "f98d77c2-c1d9-4aac-9822-3ee6d8b6f391",
   "metadata": {},
   "source": [
    "### SVC"
   ]
  },
  {
   "cell_type": "code",
   "execution_count": null,
   "id": "b4bdc842-985a-48bd-840e-9f6d902f829b",
   "metadata": {},
   "outputs": [],
   "source": [
    "from sklearn import svm\n",
    "svm=svm.SVC()\n",
    "svm.fit(X_train,Y_train)"
   ]
  },
  {
   "cell_type": "code",
   "execution_count": null,
   "id": "fbeee88d-90c0-47e0-b444-64504a68fbb8",
   "metadata": {},
   "outputs": [],
   "source": [
    "Y_pred2=svm.predict(X_test)\n",
    "accuracy_score(Y_test,Y_pred2)"
   ]
  },
  {
   "cell_type": "markdown",
   "id": "78896b55-0ef2-4b0b-a8ba-5c954fd43a7e",
   "metadata": {},
   "source": [
    "### KNeighbors Classifier"
   ]
  },
  {
   "cell_type": "code",
   "execution_count": null,
   "id": "3ea6d286-2099-4a24-8c0c-ee29e017fd34",
   "metadata": {},
   "outputs": [],
   "source": [
    "from sklearn.neighbors import KNeighborsClassifier\n",
    "knn=KNeighborsClassifier(n_neighbors=2)\n",
    "knn.fit(X_train,Y_train)"
   ]
  },
  {
   "cell_type": "code",
   "execution_count": null,
   "id": "ffbb5ddb-6742-4aa9-ba18-6b827b0b42e6",
   "metadata": {},
   "outputs": [],
   "source": [
    "Y_pred3=knn.predict(X_test)\n",
    "accuracy_score(Y_test,Y_pred3)"
   ]
  },
  {
   "cell_type": "markdown",
   "id": "899aa414-50bc-4238-8e4b-a6058f48fbbc",
   "metadata": {},
   "source": [
    "### Non-Linear ML Algorithms"
   ]
  },
  {
   "cell_type": "code",
   "execution_count": null,
   "id": "3e86ff29-6d81-46d2-8d46-c7266660ade7",
   "metadata": {},
   "outputs": [],
   "source": [
    "data=pd.read_csv('heart.csv')\n",
    "data.head()"
   ]
  },
  {
   "cell_type": "code",
   "execution_count": null,
   "id": "7d55eb8c-e7ae-42fe-ac1a-9a8a204145b0",
   "metadata": {},
   "outputs": [],
   "source": [
    "data=data.drop_duplicates()\n",
    "data.shape"
   ]
  },
  {
   "cell_type": "code",
   "execution_count": null,
   "id": "e92a1a0d-38ab-493d-b436-b0ee6e2f44a7",
   "metadata": {},
   "outputs": [],
   "source": [
    "X=data.drop('target',axis=1)\n",
    "Y=data['target']"
   ]
  },
  {
   "cell_type": "code",
   "execution_count": null,
   "id": "1354e6c6-12bb-4158-ac0d-8f28b8d5cc5a",
   "metadata": {},
   "outputs": [],
   "source": [
    "X_train,X_test,Y_train,Y_test=train_test_split(X,Y,test_size=0.2,stratify=Y,random_state=42)\n",
    "print(X.shape,X_train.shape,X_test.shape)"
   ]
  },
  {
   "cell_type": "markdown",
   "id": "be6d3d63-06ec-4bda-a6bc-c8e535820aff",
   "metadata": {},
   "source": [
    "### DecisionTreeClassifier"
   ]
  },
  {
   "cell_type": "code",
   "execution_count": null,
   "id": "2eba089c-7d50-4ac0-b6ab-198c11fa6830",
   "metadata": {},
   "outputs": [],
   "source": [
    "from sklearn.tree import DecisionTreeClassifier\n",
    "dt=DecisionTreeClassifier()\n",
    "dt.fit(X_train,Y_train)"
   ]
  },
  {
   "cell_type": "code",
   "execution_count": null,
   "id": "4c20ded9-3dd3-4db4-8657-d11c58695798",
   "metadata": {},
   "outputs": [],
   "source": [
    "Y_pred4=dt.predict(X_test)\n",
    "accuracy_score(Y_test,Y_pred4)"
   ]
  },
  {
   "cell_type": "markdown",
   "id": "50d6a0f4-ebc8-46c3-8165-9e1a3e24faf3",
   "metadata": {},
   "source": [
    "### RandomForestClassifier"
   ]
  },
  {
   "cell_type": "code",
   "execution_count": null,
   "id": "a4d67d81-3231-4926-a085-9a65b27086e5",
   "metadata": {},
   "outputs": [],
   "source": [
    "from sklearn.ensemble import RandomForestClassifier\n",
    "rf=RandomForestClassifier()\n",
    "rf.fit(X_train,Y_train)"
   ]
  },
  {
   "cell_type": "code",
   "execution_count": null,
   "id": "d674fd14-40dc-49bc-9d97-6748e7e452c9",
   "metadata": {},
   "outputs": [],
   "source": [
    "Y_pred5=rf.predict(X_test)\n",
    "accuracy_score(Y_test,Y_pred5)"
   ]
  },
  {
   "cell_type": "code",
   "execution_count": null,
   "id": "f0fed715-606d-4507-859c-1a0506b767f0",
   "metadata": {},
   "outputs": [],
   "source": [
    "#accuracy check\n",
    "final_data = pd.DataFrame({\n",
    "    'Models': ['lr', 'svm', 'knn', 'dt','rf'],\n",
    "    'ACC': [\n",
    "        accuracy_score(Y_test, Y_pred1),\n",
    "        accuracy_score(Y_test, Y_pred2),\n",
    "        accuracy_score(Y_test, Y_pred3),\n",
    "        accuracy_score(Y_test, Y_pred4),\n",
    "        accuracy_score(Y_test, Y_pred4)\n",
    "    ]\n",
    "})\n",
    "final_data"
   ]
  },
  {
   "cell_type": "code",
   "execution_count": null,
   "id": "93d32160-8372-4970-bf87-892164c26656",
   "metadata": {},
   "outputs": [],
   "source": [
    "sns.barplot(x=final_data['Models'], y=final_data['ACC'])"
   ]
  },
  {
   "cell_type": "code",
   "execution_count": null,
   "id": "f11ed53b-6435-48b8-bc45-2f9bc43b49fc",
   "metadata": {},
   "outputs": [],
   "source": [
    "X=data.drop('target',axis=1)\n",
    "Y=data['target']\n",
    "X.shape"
   ]
  },
  {
   "cell_type": "code",
   "execution_count": null,
   "id": "3410bf20-dc39-4e67-9e18-0ea451fafe90",
   "metadata": {},
   "outputs": [],
   "source": [
    "lr=LogisticRegression(max_iter=1000)\n",
    "#training the LogisticRegression model with Training data\n",
    "lr.fit(X_train,Y_train)"
   ]
  },
  {
   "cell_type": "markdown",
   "id": "963e37a0-9ffb-460d-b8ed-014b453ca770",
   "metadata": {},
   "source": [
    "# Model Evaluation"
   ]
  },
  {
   "cell_type": "markdown",
   "id": "b0fea426-4612-409f-819c-f6bce5c3b78a",
   "metadata": {},
   "source": [
    "### Prediction on new Data"
   ]
  },
  {
   "cell_type": "code",
   "execution_count": 130,
   "id": "56f220ba-aea4-4f88-bd24-f161f0a502b6",
   "metadata": {},
   "outputs": [
    {
     "data": {
      "text/html": [
       "<div>\n",
       "<style scoped>\n",
       "    .dataframe tbody tr th:only-of-type {\n",
       "        vertical-align: middle;\n",
       "    }\n",
       "\n",
       "    .dataframe tbody tr th {\n",
       "        vertical-align: top;\n",
       "    }\n",
       "\n",
       "    .dataframe thead th {\n",
       "        text-align: right;\n",
       "    }\n",
       "</style>\n",
       "<table border=\"1\" class=\"dataframe\">\n",
       "  <thead>\n",
       "    <tr style=\"text-align: right;\">\n",
       "      <th></th>\n",
       "      <th>age</th>\n",
       "      <th>sex</th>\n",
       "      <th>cp</th>\n",
       "      <th>trestbps</th>\n",
       "      <th>chol</th>\n",
       "      <th>fbs</th>\n",
       "      <th>restecg</th>\n",
       "      <th>thalach</th>\n",
       "      <th>exang</th>\n",
       "      <th>oldpeak</th>\n",
       "      <th>slope</th>\n",
       "      <th>ca</th>\n",
       "      <th>thal</th>\n",
       "    </tr>\n",
       "  </thead>\n",
       "  <tbody>\n",
       "    <tr>\n",
       "      <th>0</th>\n",
       "      <td>52</td>\n",
       "      <td>1</td>\n",
       "      <td>0</td>\n",
       "      <td>125</td>\n",
       "      <td>212</td>\n",
       "      <td>0</td>\n",
       "      <td>1</td>\n",
       "      <td>168</td>\n",
       "      <td>0</td>\n",
       "      <td>1.0</td>\n",
       "      <td>2</td>\n",
       "      <td>2</td>\n",
       "      <td>3</td>\n",
       "    </tr>\n",
       "  </tbody>\n",
       "</table>\n",
       "</div>"
      ],
      "text/plain": [
       "   age  sex  cp  trestbps  chol  fbs  restecg  thalach  exang  oldpeak  slope  \\\n",
       "0   52    1   0       125   212    0        1      168      0      1.0      2   \n",
       "\n",
       "   ca  thal  \n",
       "0   2     3  "
      ]
     },
     "execution_count": 130,
     "metadata": {},
     "output_type": "execute_result"
    }
   ],
   "source": [
    "new_data=pd.DataFrame({\n",
    "    'age':52,\n",
    "    'sex':1,\n",
    "    'cp':0,\n",
    "    'trestbps':125,\n",
    "    'chol':212,\n",
    "    'fbs':0,\n",
    "    'restecg':1,\n",
    "    'thalach':168,\n",
    "    'exang':0,\n",
    "    'oldpeak':1.0,\n",
    "    'slope':2,\n",
    "    'ca':2,\n",
    "    'thal':3\n",
    "},index=[0])\n",
    "new_data\n"
   ]
  },
  {
   "cell_type": "code",
   "execution_count": 131,
   "id": "72535952-ca30-4692-90b4-ccde07939c1a",
   "metadata": {},
   "outputs": [
    {
     "name": "stdout",
     "output_type": "stream",
     "text": [
      "The Person does not have a Heart Disease\n"
     ]
    }
   ],
   "source": [
    "prediction=lr.predict(new_data)\n",
    "if (prediction==0):\n",
    "  print(\"The Person does not have a Heart Disease\")\n",
    "else:\n",
    "  print(\"The Person has Heart Disease\")"
   ]
  }
 ],
 "metadata": {
  "kernelspec": {
   "display_name": "venv",
   "language": "python",
   "name": "python3"
  },
  "language_info": {
   "codemirror_mode": {
    "name": "ipython",
    "version": 3
   },
   "file_extension": ".py",
   "mimetype": "text/x-python",
   "name": "python",
   "nbconvert_exporter": "python",
   "pygments_lexer": "ipython3",
   "version": "3.11.2"
  }
 },
 "nbformat": 4,
 "nbformat_minor": 5
}
